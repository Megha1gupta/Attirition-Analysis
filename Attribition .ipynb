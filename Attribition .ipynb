{
 "cells": [
  {
   "cell_type": "code",
   "execution_count": 1,
   "id": "daf157c3",
   "metadata": {},
   "outputs": [],
   "source": [
    "import pandas as pd \n",
    "import numpy as np \n",
    "import matplotlib.pyplot as plt \n",
    "import seaborn as sns \n"
   ]
  },
  {
   "cell_type": "code",
   "execution_count": 2,
   "id": "04c1ef1c",
   "metadata": {},
   "outputs": [
    {
     "data": {
      "text/html": [
       "<div>\n",
       "<style scoped>\n",
       "    .dataframe tbody tr th:only-of-type {\n",
       "        vertical-align: middle;\n",
       "    }\n",
       "\n",
       "    .dataframe tbody tr th {\n",
       "        vertical-align: top;\n",
       "    }\n",
       "\n",
       "    .dataframe thead th {\n",
       "        text-align: right;\n",
       "    }\n",
       "</style>\n",
       "<table border=\"1\" class=\"dataframe\">\n",
       "  <thead>\n",
       "    <tr style=\"text-align: right;\">\n",
       "      <th></th>\n",
       "      <th>EmployeeNumber</th>\n",
       "      <th>Attrition</th>\n",
       "      <th>Age</th>\n",
       "      <th>BusinessTravel</th>\n",
       "      <th>DailyRate</th>\n",
       "      <th>Department</th>\n",
       "      <th>DistanceFromHome</th>\n",
       "      <th>Education</th>\n",
       "      <th>EducationField</th>\n",
       "      <th>EmployeeCount</th>\n",
       "      <th>...</th>\n",
       "      <th>RelationshipSatisfaction</th>\n",
       "      <th>StandardHours</th>\n",
       "      <th>StockOptionLevel</th>\n",
       "      <th>TotalWorkingYears</th>\n",
       "      <th>TrainingTimesLastYear</th>\n",
       "      <th>WorkLifeBalance</th>\n",
       "      <th>YearsAtCompany</th>\n",
       "      <th>YearsInCurrentRole</th>\n",
       "      <th>YearsSinceLastPromotion</th>\n",
       "      <th>YearsWithCurrManager</th>\n",
       "    </tr>\n",
       "  </thead>\n",
       "  <tbody>\n",
       "    <tr>\n",
       "      <th>0</th>\n",
       "      <td>1</td>\n",
       "      <td>Yes</td>\n",
       "      <td>41</td>\n",
       "      <td>Travel_Rarely</td>\n",
       "      <td>1102</td>\n",
       "      <td>Sales</td>\n",
       "      <td>1</td>\n",
       "      <td>2</td>\n",
       "      <td>Life Sciences</td>\n",
       "      <td>1</td>\n",
       "      <td>...</td>\n",
       "      <td>1</td>\n",
       "      <td>80</td>\n",
       "      <td>0</td>\n",
       "      <td>8</td>\n",
       "      <td>0</td>\n",
       "      <td>1</td>\n",
       "      <td>6</td>\n",
       "      <td>4</td>\n",
       "      <td>0</td>\n",
       "      <td>5</td>\n",
       "    </tr>\n",
       "    <tr>\n",
       "      <th>1</th>\n",
       "      <td>2</td>\n",
       "      <td>No</td>\n",
       "      <td>49</td>\n",
       "      <td>Travel_Frequently</td>\n",
       "      <td>279</td>\n",
       "      <td>Research &amp; Development</td>\n",
       "      <td>8</td>\n",
       "      <td>1</td>\n",
       "      <td>Life Sciences</td>\n",
       "      <td>1</td>\n",
       "      <td>...</td>\n",
       "      <td>4</td>\n",
       "      <td>80</td>\n",
       "      <td>1</td>\n",
       "      <td>10</td>\n",
       "      <td>3</td>\n",
       "      <td>3</td>\n",
       "      <td>10</td>\n",
       "      <td>7</td>\n",
       "      <td>1</td>\n",
       "      <td>7</td>\n",
       "    </tr>\n",
       "    <tr>\n",
       "      <th>2</th>\n",
       "      <td>3</td>\n",
       "      <td>Yes</td>\n",
       "      <td>37</td>\n",
       "      <td>Travel_Rarely</td>\n",
       "      <td>1373</td>\n",
       "      <td>Research &amp; Development</td>\n",
       "      <td>2</td>\n",
       "      <td>2</td>\n",
       "      <td>Other</td>\n",
       "      <td>1</td>\n",
       "      <td>...</td>\n",
       "      <td>2</td>\n",
       "      <td>80</td>\n",
       "      <td>0</td>\n",
       "      <td>7</td>\n",
       "      <td>3</td>\n",
       "      <td>3</td>\n",
       "      <td>0</td>\n",
       "      <td>0</td>\n",
       "      <td>0</td>\n",
       "      <td>0</td>\n",
       "    </tr>\n",
       "    <tr>\n",
       "      <th>3</th>\n",
       "      <td>4</td>\n",
       "      <td>No</td>\n",
       "      <td>33</td>\n",
       "      <td>Travel_Frequently</td>\n",
       "      <td>1392</td>\n",
       "      <td>Research &amp; Development</td>\n",
       "      <td>3</td>\n",
       "      <td>4</td>\n",
       "      <td>Life Sciences</td>\n",
       "      <td>1</td>\n",
       "      <td>...</td>\n",
       "      <td>3</td>\n",
       "      <td>80</td>\n",
       "      <td>0</td>\n",
       "      <td>8</td>\n",
       "      <td>3</td>\n",
       "      <td>3</td>\n",
       "      <td>8</td>\n",
       "      <td>7</td>\n",
       "      <td>3</td>\n",
       "      <td>0</td>\n",
       "    </tr>\n",
       "    <tr>\n",
       "      <th>4</th>\n",
       "      <td>5</td>\n",
       "      <td>No</td>\n",
       "      <td>27</td>\n",
       "      <td>Travel_Rarely</td>\n",
       "      <td>591</td>\n",
       "      <td>Research &amp; Development</td>\n",
       "      <td>2</td>\n",
       "      <td>1</td>\n",
       "      <td>Medical</td>\n",
       "      <td>1</td>\n",
       "      <td>...</td>\n",
       "      <td>4</td>\n",
       "      <td>80</td>\n",
       "      <td>1</td>\n",
       "      <td>6</td>\n",
       "      <td>3</td>\n",
       "      <td>3</td>\n",
       "      <td>2</td>\n",
       "      <td>2</td>\n",
       "      <td>2</td>\n",
       "      <td>2</td>\n",
       "    </tr>\n",
       "  </tbody>\n",
       "</table>\n",
       "<p>5 rows × 35 columns</p>\n",
       "</div>"
      ],
      "text/plain": [
       "   EmployeeNumber Attrition  Age     BusinessTravel  DailyRate  \\\n",
       "0               1       Yes   41      Travel_Rarely       1102   \n",
       "1               2        No   49  Travel_Frequently        279   \n",
       "2               3       Yes   37      Travel_Rarely       1373   \n",
       "3               4        No   33  Travel_Frequently       1392   \n",
       "4               5        No   27      Travel_Rarely        591   \n",
       "\n",
       "               Department  DistanceFromHome  Education EducationField  \\\n",
       "0                   Sales                 1          2  Life Sciences   \n",
       "1  Research & Development                 8          1  Life Sciences   \n",
       "2  Research & Development                 2          2          Other   \n",
       "3  Research & Development                 3          4  Life Sciences   \n",
       "4  Research & Development                 2          1        Medical   \n",
       "\n",
       "   EmployeeCount  ...  RelationshipSatisfaction StandardHours  \\\n",
       "0              1  ...                         1            80   \n",
       "1              1  ...                         4            80   \n",
       "2              1  ...                         2            80   \n",
       "3              1  ...                         3            80   \n",
       "4              1  ...                         4            80   \n",
       "\n",
       "   StockOptionLevel  TotalWorkingYears  TrainingTimesLastYear WorkLifeBalance  \\\n",
       "0                 0                  8                      0               1   \n",
       "1                 1                 10                      3               3   \n",
       "2                 0                  7                      3               3   \n",
       "3                 0                  8                      3               3   \n",
       "4                 1                  6                      3               3   \n",
       "\n",
       "   YearsAtCompany YearsInCurrentRole  YearsSinceLastPromotion  \\\n",
       "0               6                  4                        0   \n",
       "1              10                  7                        1   \n",
       "2               0                  0                        0   \n",
       "3               8                  7                        3   \n",
       "4               2                  2                        2   \n",
       "\n",
       "   YearsWithCurrManager  \n",
       "0                     5  \n",
       "1                     7  \n",
       "2                     0  \n",
       "3                     0  \n",
       "4                     2  \n",
       "\n",
       "[5 rows x 35 columns]"
      ]
     },
     "execution_count": 2,
     "metadata": {},
     "output_type": "execute_result"
    }
   ],
   "source": [
    "dataset = pd.read_excel('/Users\\hp\\Documents\\Downloads\\HR_Employee_Attrition-1.xlsx')\n",
    "\n",
    "dataset.head()"
   ]
  },
  {
   "cell_type": "code",
   "execution_count": 3,
   "id": "c73dba3e",
   "metadata": {},
   "outputs": [
    {
     "data": {
      "text/plain": [
       "(2940, 35)"
      ]
     },
     "execution_count": 3,
     "metadata": {},
     "output_type": "execute_result"
    }
   ],
   "source": [
    "dataset.shape"
   ]
  },
  {
   "cell_type": "code",
   "execution_count": 4,
   "id": "9aab3fba",
   "metadata": {},
   "outputs": [],
   "source": [
    "# Object type datatype:\n",
    "category_cols = dataset.select_dtypes('object')"
   ]
  },
  {
   "cell_type": "code",
   "execution_count": 5,
   "id": "6d98a222",
   "metadata": {},
   "outputs": [
    {
     "data": {
      "text/html": [
       "<div>\n",
       "<style scoped>\n",
       "    .dataframe tbody tr th:only-of-type {\n",
       "        vertical-align: middle;\n",
       "    }\n",
       "\n",
       "    .dataframe tbody tr th {\n",
       "        vertical-align: top;\n",
       "    }\n",
       "\n",
       "    .dataframe thead th {\n",
       "        text-align: right;\n",
       "    }\n",
       "</style>\n",
       "<table border=\"1\" class=\"dataframe\">\n",
       "  <thead>\n",
       "    <tr style=\"text-align: right;\">\n",
       "      <th></th>\n",
       "      <th>Attrition</th>\n",
       "      <th>BusinessTravel</th>\n",
       "      <th>Department</th>\n",
       "      <th>EducationField</th>\n",
       "      <th>Gender</th>\n",
       "      <th>JobRole</th>\n",
       "      <th>MaritalStatus</th>\n",
       "      <th>Over18</th>\n",
       "      <th>OverTime</th>\n",
       "    </tr>\n",
       "  </thead>\n",
       "  <tbody>\n",
       "    <tr>\n",
       "      <th>0</th>\n",
       "      <td>Yes</td>\n",
       "      <td>Travel_Rarely</td>\n",
       "      <td>Sales</td>\n",
       "      <td>Life Sciences</td>\n",
       "      <td>Female</td>\n",
       "      <td>Sales Executive</td>\n",
       "      <td>Single</td>\n",
       "      <td>Y</td>\n",
       "      <td>Yes</td>\n",
       "    </tr>\n",
       "    <tr>\n",
       "      <th>1</th>\n",
       "      <td>No</td>\n",
       "      <td>Travel_Frequently</td>\n",
       "      <td>Research &amp; Development</td>\n",
       "      <td>Life Sciences</td>\n",
       "      <td>Male</td>\n",
       "      <td>Research Scientist</td>\n",
       "      <td>Married</td>\n",
       "      <td>Y</td>\n",
       "      <td>No</td>\n",
       "    </tr>\n",
       "    <tr>\n",
       "      <th>2</th>\n",
       "      <td>Yes</td>\n",
       "      <td>Travel_Rarely</td>\n",
       "      <td>Research &amp; Development</td>\n",
       "      <td>Other</td>\n",
       "      <td>Male</td>\n",
       "      <td>Laboratory Technician</td>\n",
       "      <td>Single</td>\n",
       "      <td>Y</td>\n",
       "      <td>Yes</td>\n",
       "    </tr>\n",
       "    <tr>\n",
       "      <th>3</th>\n",
       "      <td>No</td>\n",
       "      <td>Travel_Frequently</td>\n",
       "      <td>Research &amp; Development</td>\n",
       "      <td>Life Sciences</td>\n",
       "      <td>Female</td>\n",
       "      <td>Research Scientist</td>\n",
       "      <td>Married</td>\n",
       "      <td>Y</td>\n",
       "      <td>Yes</td>\n",
       "    </tr>\n",
       "    <tr>\n",
       "      <th>4</th>\n",
       "      <td>No</td>\n",
       "      <td>Travel_Rarely</td>\n",
       "      <td>Research &amp; Development</td>\n",
       "      <td>Medical</td>\n",
       "      <td>Male</td>\n",
       "      <td>Laboratory Technician</td>\n",
       "      <td>Married</td>\n",
       "      <td>Y</td>\n",
       "      <td>No</td>\n",
       "    </tr>\n",
       "    <tr>\n",
       "      <th>...</th>\n",
       "      <td>...</td>\n",
       "      <td>...</td>\n",
       "      <td>...</td>\n",
       "      <td>...</td>\n",
       "      <td>...</td>\n",
       "      <td>...</td>\n",
       "      <td>...</td>\n",
       "      <td>...</td>\n",
       "      <td>...</td>\n",
       "    </tr>\n",
       "    <tr>\n",
       "      <th>2935</th>\n",
       "      <td>No</td>\n",
       "      <td>Travel_Frequently</td>\n",
       "      <td>Research &amp; Development</td>\n",
       "      <td>Medical</td>\n",
       "      <td>Male</td>\n",
       "      <td>Laboratory Technician</td>\n",
       "      <td>Married</td>\n",
       "      <td>Y</td>\n",
       "      <td>No</td>\n",
       "    </tr>\n",
       "    <tr>\n",
       "      <th>2936</th>\n",
       "      <td>No</td>\n",
       "      <td>Travel_Rarely</td>\n",
       "      <td>Research &amp; Development</td>\n",
       "      <td>Medical</td>\n",
       "      <td>Male</td>\n",
       "      <td>Healthcare Representative</td>\n",
       "      <td>Married</td>\n",
       "      <td>Y</td>\n",
       "      <td>No</td>\n",
       "    </tr>\n",
       "    <tr>\n",
       "      <th>2937</th>\n",
       "      <td>No</td>\n",
       "      <td>Travel_Rarely</td>\n",
       "      <td>Research &amp; Development</td>\n",
       "      <td>Life Sciences</td>\n",
       "      <td>Male</td>\n",
       "      <td>Manufacturing Director</td>\n",
       "      <td>Married</td>\n",
       "      <td>Y</td>\n",
       "      <td>Yes</td>\n",
       "    </tr>\n",
       "    <tr>\n",
       "      <th>2938</th>\n",
       "      <td>No</td>\n",
       "      <td>Travel_Frequently</td>\n",
       "      <td>Sales</td>\n",
       "      <td>Medical</td>\n",
       "      <td>Male</td>\n",
       "      <td>Sales Executive</td>\n",
       "      <td>Married</td>\n",
       "      <td>Y</td>\n",
       "      <td>No</td>\n",
       "    </tr>\n",
       "    <tr>\n",
       "      <th>2939</th>\n",
       "      <td>No</td>\n",
       "      <td>Travel_Rarely</td>\n",
       "      <td>Research &amp; Development</td>\n",
       "      <td>Medical</td>\n",
       "      <td>Male</td>\n",
       "      <td>Laboratory Technician</td>\n",
       "      <td>Married</td>\n",
       "      <td>Y</td>\n",
       "      <td>No</td>\n",
       "    </tr>\n",
       "  </tbody>\n",
       "</table>\n",
       "<p>2940 rows × 9 columns</p>\n",
       "</div>"
      ],
      "text/plain": [
       "     Attrition     BusinessTravel              Department EducationField  \\\n",
       "0          Yes      Travel_Rarely                   Sales  Life Sciences   \n",
       "1           No  Travel_Frequently  Research & Development  Life Sciences   \n",
       "2          Yes      Travel_Rarely  Research & Development          Other   \n",
       "3           No  Travel_Frequently  Research & Development  Life Sciences   \n",
       "4           No      Travel_Rarely  Research & Development        Medical   \n",
       "...        ...                ...                     ...            ...   \n",
       "2935        No  Travel_Frequently  Research & Development        Medical   \n",
       "2936        No      Travel_Rarely  Research & Development        Medical   \n",
       "2937        No      Travel_Rarely  Research & Development  Life Sciences   \n",
       "2938        No  Travel_Frequently                   Sales        Medical   \n",
       "2939        No      Travel_Rarely  Research & Development        Medical   \n",
       "\n",
       "      Gender                    JobRole MaritalStatus Over18 OverTime  \n",
       "0     Female            Sales Executive        Single      Y      Yes  \n",
       "1       Male         Research Scientist       Married      Y       No  \n",
       "2       Male      Laboratory Technician        Single      Y      Yes  \n",
       "3     Female         Research Scientist       Married      Y      Yes  \n",
       "4       Male      Laboratory Technician       Married      Y       No  \n",
       "...      ...                        ...           ...    ...      ...  \n",
       "2935    Male      Laboratory Technician       Married      Y       No  \n",
       "2936    Male  Healthcare Representative       Married      Y       No  \n",
       "2937    Male     Manufacturing Director       Married      Y      Yes  \n",
       "2938    Male            Sales Executive       Married      Y       No  \n",
       "2939    Male      Laboratory Technician       Married      Y       No  \n",
       "\n",
       "[2940 rows x 9 columns]"
      ]
     },
     "execution_count": 5,
     "metadata": {},
     "output_type": "execute_result"
    }
   ],
   "source": [
    "category_cols"
   ]
  },
  {
   "cell_type": "code",
   "execution_count": 6,
   "id": "2baa3f1e",
   "metadata": {},
   "outputs": [
    {
     "name": "stdout",
     "output_type": "stream",
     "text": [
      "Unique Values in Attrition are :\n",
      "No     2466\n",
      "Yes     474\n",
      "Name: Attrition, dtype: int64\n",
      "**************************************************\n",
      "Unique Values in BusinessTravel are :\n",
      "Travel_Rarely        2086\n",
      "Travel_Frequently     554\n",
      "Non-Travel            300\n",
      "Name: BusinessTravel, dtype: int64\n",
      "**************************************************\n",
      "Unique Values in Department are :\n",
      "Research & Development    1922\n",
      "Sales                      892\n",
      "Human Resources            126\n",
      "Name: Department, dtype: int64\n",
      "**************************************************\n",
      "Unique Values in EducationField are :\n",
      "Life Sciences       1212\n",
      "Medical              928\n",
      "Marketing            318\n",
      "Technical Degree     264\n",
      "Other                164\n",
      "Human Resources       54\n",
      "Name: EducationField, dtype: int64\n",
      "**************************************************\n",
      "Unique Values in Gender are :\n",
      "Male      1764\n",
      "Female    1176\n",
      "Name: Gender, dtype: int64\n",
      "**************************************************\n",
      "Unique Values in JobRole are :\n",
      "Sales Executive              652\n",
      "Research Scientist           584\n",
      "Laboratory Technician        518\n",
      "Manufacturing Director       290\n",
      "Healthcare Representative    262\n",
      "Manager                      204\n",
      "Sales Representative         166\n",
      "Research Director            160\n",
      "Human Resources              104\n",
      "Name: JobRole, dtype: int64\n",
      "**************************************************\n",
      "Unique Values in MaritalStatus are :\n",
      "Married     1346\n",
      "Single       940\n",
      "Divorced     654\n",
      "Name: MaritalStatus, dtype: int64\n",
      "**************************************************\n",
      "Unique Values in Over18 are :\n",
      "Y    2940\n",
      "Name: Over18, dtype: int64\n",
      "**************************************************\n",
      "Unique Values in OverTime are :\n",
      "No     2108\n",
      "Yes     832\n",
      "Name: OverTime, dtype: int64\n",
      "**************************************************\n"
     ]
    }
   ],
   "source": [
    "for i in category_cols:\n",
    "    print(f\"Unique Values in {i} are :\")\n",
    "    print(category_cols[i].value_counts())\n",
    "    print(\"*\"*50)"
   ]
  },
  {
   "cell_type": "code",
   "execution_count": 7,
   "id": "2316c837",
   "metadata": {},
   "outputs": [
    {
     "data": {
      "text/plain": [
       "Index(['EmployeeNumber', 'Attrition', 'Age', 'BusinessTravel', 'DailyRate',\n",
       "       'Department', 'DistanceFromHome', 'Education', 'EducationField',\n",
       "       'EmployeeCount', 'EnvironmentSatisfaction', 'Gender', 'HourlyRate',\n",
       "       'JobInvolvement', 'JobLevel', 'JobRole', 'JobSatisfaction',\n",
       "       'MaritalStatus', 'MonthlyIncome', 'MonthlyRate', 'NumCompaniesWorked',\n",
       "       'Over18', 'OverTime', 'PercentSalaryHike', 'PerformanceRating',\n",
       "       'RelationshipSatisfaction', 'StandardHours', 'StockOptionLevel',\n",
       "       'TotalWorkingYears', 'TrainingTimesLastYear', 'WorkLifeBalance',\n",
       "       'YearsAtCompany', 'YearsInCurrentRole', 'YearsSinceLastPromotion',\n",
       "       'YearsWithCurrManager'],\n",
       "      dtype='object')"
      ]
     },
     "execution_count": 7,
     "metadata": {},
     "output_type": "execute_result"
    }
   ],
   "source": [
    "dataset.columns"
   ]
  },
  {
   "cell_type": "code",
   "execution_count": 8,
   "id": "a4b68264",
   "metadata": {},
   "outputs": [],
   "source": [
    "# Drop over 18 column:\n",
    "dataset.drop(columns='Over18', inplace=True)"
   ]
  },
  {
   "cell_type": "code",
   "execution_count": 9,
   "id": "e65f7b01",
   "metadata": {},
   "outputs": [
    {
     "data": {
      "text/plain": [
       "EmployeeNumber              0\n",
       "Attrition                   0\n",
       "Age                         0\n",
       "BusinessTravel              0\n",
       "DailyRate                   0\n",
       "Department                  0\n",
       "DistanceFromHome            0\n",
       "Education                   0\n",
       "EducationField              0\n",
       "EmployeeCount               0\n",
       "EnvironmentSatisfaction     0\n",
       "Gender                      0\n",
       "HourlyRate                  0\n",
       "JobInvolvement              0\n",
       "JobLevel                    0\n",
       "JobRole                     0\n",
       "JobSatisfaction             0\n",
       "MaritalStatus               0\n",
       "MonthlyIncome               0\n",
       "MonthlyRate                 0\n",
       "NumCompaniesWorked          0\n",
       "OverTime                    0\n",
       "PercentSalaryHike           0\n",
       "PerformanceRating           0\n",
       "RelationshipSatisfaction    0\n",
       "StandardHours               0\n",
       "StockOptionLevel            0\n",
       "TotalWorkingYears           0\n",
       "TrainingTimesLastYear       0\n",
       "WorkLifeBalance             0\n",
       "YearsAtCompany              0\n",
       "YearsInCurrentRole          0\n",
       "YearsSinceLastPromotion     0\n",
       "YearsWithCurrManager        0\n",
       "dtype: int64"
      ]
     },
     "execution_count": 9,
     "metadata": {},
     "output_type": "execute_result"
    }
   ],
   "source": [
    "# check null values\n",
    "dataset.isnull().sum()"
   ]
  },
  {
   "cell_type": "code",
   "execution_count": 10,
   "id": "a170c96f",
   "metadata": {},
   "outputs": [],
   "source": [
    "#Descriptive analysis\n",
    "categorical_dataset = dataset.describe(include=['object']).T"
   ]
  },
  {
   "cell_type": "code",
   "execution_count": 11,
   "id": "f660d7c6",
   "metadata": {},
   "outputs": [
    {
     "data": {
      "text/html": [
       "<div>\n",
       "<style scoped>\n",
       "    .dataframe tbody tr th:only-of-type {\n",
       "        vertical-align: middle;\n",
       "    }\n",
       "\n",
       "    .dataframe tbody tr th {\n",
       "        vertical-align: top;\n",
       "    }\n",
       "\n",
       "    .dataframe thead th {\n",
       "        text-align: right;\n",
       "    }\n",
       "</style>\n",
       "<table border=\"1\" class=\"dataframe\">\n",
       "  <thead>\n",
       "    <tr style=\"text-align: right;\">\n",
       "      <th></th>\n",
       "      <th>count</th>\n",
       "      <th>unique</th>\n",
       "      <th>top</th>\n",
       "      <th>freq</th>\n",
       "    </tr>\n",
       "  </thead>\n",
       "  <tbody>\n",
       "    <tr>\n",
       "      <th>Attrition</th>\n",
       "      <td>2940</td>\n",
       "      <td>2</td>\n",
       "      <td>No</td>\n",
       "      <td>2466</td>\n",
       "    </tr>\n",
       "    <tr>\n",
       "      <th>BusinessTravel</th>\n",
       "      <td>2940</td>\n",
       "      <td>3</td>\n",
       "      <td>Travel_Rarely</td>\n",
       "      <td>2086</td>\n",
       "    </tr>\n",
       "    <tr>\n",
       "      <th>Department</th>\n",
       "      <td>2940</td>\n",
       "      <td>3</td>\n",
       "      <td>Research &amp; Development</td>\n",
       "      <td>1922</td>\n",
       "    </tr>\n",
       "    <tr>\n",
       "      <th>EducationField</th>\n",
       "      <td>2940</td>\n",
       "      <td>6</td>\n",
       "      <td>Life Sciences</td>\n",
       "      <td>1212</td>\n",
       "    </tr>\n",
       "    <tr>\n",
       "      <th>Gender</th>\n",
       "      <td>2940</td>\n",
       "      <td>2</td>\n",
       "      <td>Male</td>\n",
       "      <td>1764</td>\n",
       "    </tr>\n",
       "    <tr>\n",
       "      <th>JobRole</th>\n",
       "      <td>2940</td>\n",
       "      <td>9</td>\n",
       "      <td>Sales Executive</td>\n",
       "      <td>652</td>\n",
       "    </tr>\n",
       "    <tr>\n",
       "      <th>MaritalStatus</th>\n",
       "      <td>2940</td>\n",
       "      <td>3</td>\n",
       "      <td>Married</td>\n",
       "      <td>1346</td>\n",
       "    </tr>\n",
       "    <tr>\n",
       "      <th>OverTime</th>\n",
       "      <td>2940</td>\n",
       "      <td>2</td>\n",
       "      <td>No</td>\n",
       "      <td>2108</td>\n",
       "    </tr>\n",
       "  </tbody>\n",
       "</table>\n",
       "</div>"
      ],
      "text/plain": [
       "               count unique                     top  freq\n",
       "Attrition       2940      2                      No  2466\n",
       "BusinessTravel  2940      3           Travel_Rarely  2086\n",
       "Department      2940      3  Research & Development  1922\n",
       "EducationField  2940      6           Life Sciences  1212\n",
       "Gender          2940      2                    Male  1764\n",
       "JobRole         2940      9         Sales Executive   652\n",
       "MaritalStatus   2940      3                 Married  1346\n",
       "OverTime        2940      2                      No  2108"
      ]
     },
     "execution_count": 11,
     "metadata": {},
     "output_type": "execute_result"
    }
   ],
   "source": [
    "categorical_dataset"
   ]
  },
  {
   "cell_type": "code",
   "execution_count": 12,
   "id": "7cf92f95",
   "metadata": {},
   "outputs": [],
   "source": [
    "categorical_dataset['pct'] = (categorical_dataset['freq']/categorical_dataset['count'])*100"
   ]
  },
  {
   "cell_type": "code",
   "execution_count": 13,
   "id": "9ee922a7",
   "metadata": {},
   "outputs": [
    {
     "data": {
      "text/html": [
       "<div>\n",
       "<style scoped>\n",
       "    .dataframe tbody tr th:only-of-type {\n",
       "        vertical-align: middle;\n",
       "    }\n",
       "\n",
       "    .dataframe tbody tr th {\n",
       "        vertical-align: top;\n",
       "    }\n",
       "\n",
       "    .dataframe thead th {\n",
       "        text-align: right;\n",
       "    }\n",
       "</style>\n",
       "<table border=\"1\" class=\"dataframe\">\n",
       "  <thead>\n",
       "    <tr style=\"text-align: right;\">\n",
       "      <th></th>\n",
       "      <th>count</th>\n",
       "      <th>unique</th>\n",
       "      <th>top</th>\n",
       "      <th>freq</th>\n",
       "      <th>pct</th>\n",
       "    </tr>\n",
       "  </thead>\n",
       "  <tbody>\n",
       "    <tr>\n",
       "      <th>Attrition</th>\n",
       "      <td>2940</td>\n",
       "      <td>2</td>\n",
       "      <td>No</td>\n",
       "      <td>2466</td>\n",
       "      <td>83.877551</td>\n",
       "    </tr>\n",
       "    <tr>\n",
       "      <th>BusinessTravel</th>\n",
       "      <td>2940</td>\n",
       "      <td>3</td>\n",
       "      <td>Travel_Rarely</td>\n",
       "      <td>2086</td>\n",
       "      <td>70.952381</td>\n",
       "    </tr>\n",
       "    <tr>\n",
       "      <th>Department</th>\n",
       "      <td>2940</td>\n",
       "      <td>3</td>\n",
       "      <td>Research &amp; Development</td>\n",
       "      <td>1922</td>\n",
       "      <td>65.37415</td>\n",
       "    </tr>\n",
       "    <tr>\n",
       "      <th>EducationField</th>\n",
       "      <td>2940</td>\n",
       "      <td>6</td>\n",
       "      <td>Life Sciences</td>\n",
       "      <td>1212</td>\n",
       "      <td>41.22449</td>\n",
       "    </tr>\n",
       "    <tr>\n",
       "      <th>Gender</th>\n",
       "      <td>2940</td>\n",
       "      <td>2</td>\n",
       "      <td>Male</td>\n",
       "      <td>1764</td>\n",
       "      <td>60.0</td>\n",
       "    </tr>\n",
       "    <tr>\n",
       "      <th>JobRole</th>\n",
       "      <td>2940</td>\n",
       "      <td>9</td>\n",
       "      <td>Sales Executive</td>\n",
       "      <td>652</td>\n",
       "      <td>22.176871</td>\n",
       "    </tr>\n",
       "    <tr>\n",
       "      <th>MaritalStatus</th>\n",
       "      <td>2940</td>\n",
       "      <td>3</td>\n",
       "      <td>Married</td>\n",
       "      <td>1346</td>\n",
       "      <td>45.782313</td>\n",
       "    </tr>\n",
       "    <tr>\n",
       "      <th>OverTime</th>\n",
       "      <td>2940</td>\n",
       "      <td>2</td>\n",
       "      <td>No</td>\n",
       "      <td>2108</td>\n",
       "      <td>71.70068</td>\n",
       "    </tr>\n",
       "  </tbody>\n",
       "</table>\n",
       "</div>"
      ],
      "text/plain": [
       "               count unique                     top  freq        pct\n",
       "Attrition       2940      2                      No  2466  83.877551\n",
       "BusinessTravel  2940      3           Travel_Rarely  2086  70.952381\n",
       "Department      2940      3  Research & Development  1922   65.37415\n",
       "EducationField  2940      6           Life Sciences  1212   41.22449\n",
       "Gender          2940      2                    Male  1764       60.0\n",
       "JobRole         2940      9         Sales Executive   652  22.176871\n",
       "MaritalStatus   2940      3                 Married  1346  45.782313\n",
       "OverTime        2940      2                      No  2108   71.70068"
      ]
     },
     "execution_count": 13,
     "metadata": {},
     "output_type": "execute_result"
    }
   ],
   "source": [
    "categorical_dataset"
   ]
  },
  {
   "cell_type": "code",
   "execution_count": 14,
   "id": "b11b351e",
   "metadata": {},
   "outputs": [
    {
     "data": {
      "text/plain": [
       "Attrition\n",
       "No     2466\n",
       "Yes     474\n",
       "Name: BusinessTravel, dtype: int64"
      ]
     },
     "execution_count": 14,
     "metadata": {},
     "output_type": "execute_result"
    }
   ],
   "source": [
    "# Attrition vs Business travel\n",
    "dataset.groupby(['Attrition'])['BusinessTravel'].count()"
   ]
  },
  {
   "cell_type": "code",
   "execution_count": 15,
   "id": "1f7a32de",
   "metadata": {},
   "outputs": [
    {
     "data": {
      "text/plain": [
       "BusinessTravel\n",
       "Non-Travel            300\n",
       "Travel_Frequently     554\n",
       "Travel_Rarely        2086\n",
       "Name: Attrition, dtype: int64"
      ]
     },
     "execution_count": 15,
     "metadata": {},
     "output_type": "execute_result"
    }
   ],
   "source": [
    "dataset.groupby(['BusinessTravel'])['Attrition'].count()"
   ]
  },
  {
   "cell_type": "code",
   "execution_count": 16,
   "id": "b8a03fb6",
   "metadata": {},
   "outputs": [
    {
     "data": {
      "text/plain": [
       "Attrition  BusinessTravel   \n",
       "No         Non-Travel           6350.746377\n",
       "           Travel_Frequently    6828.091346\n",
       "           Travel_Rarely        6908.818489\n",
       "Yes        Non-Travel           5240.750000\n",
       "           Travel_Frequently    4281.434783\n",
       "           Travel_Rarely        4975.852564\n",
       "Name: MonthlyIncome, dtype: float64"
      ]
     },
     "execution_count": 16,
     "metadata": {},
     "output_type": "execute_result"
    }
   ],
   "source": [
    "dataset.groupby(['Attrition', 'BusinessTravel'])['MonthlyIncome'].mean()"
   ]
  },
  {
   "cell_type": "code",
   "execution_count": 17,
   "id": "77f07ab9",
   "metadata": {},
   "outputs": [],
   "source": [
    "## Observation:\n",
    "#Salary for those leaving the organization is lower comapratively to those who are not leaving \n",
    "#salary is lower for those who are travelling very frequently and leaving the organization \n"
   ]
  },
  {
   "cell_type": "code",
   "execution_count": 18,
   "id": "4381e43a",
   "metadata": {},
   "outputs": [
    {
     "data": {
      "text/plain": [
       "Attrition  PerformanceRating\n",
       "No         3                    14.040230\n",
       "           4                    21.809524\n",
       "Yes        3                    13.810000\n",
       "           4                    22.054054\n",
       "Name: PercentSalaryHike, dtype: float64"
      ]
     },
     "execution_count": 18,
     "metadata": {},
     "output_type": "execute_result"
    }
   ],
   "source": [
    "#Attrition vs performance rating vs percentsalaryhike\n",
    "dataset.groupby(['Attrition', 'PerformanceRating'])['PercentSalaryHike'].mean()"
   ]
  },
  {
   "cell_type": "code",
   "execution_count": 19,
   "id": "38831757",
   "metadata": {},
   "outputs": [],
   "source": [
    "## Observation:\n",
    "# No difference observed between Attirated and non attirated employees"
   ]
  },
  {
   "cell_type": "code",
   "execution_count": 20,
   "id": "eadeffcd",
   "metadata": {},
   "outputs": [],
   "source": [
    "#Continous univariate Analysis"
   ]
  },
  {
   "cell_type": "code",
   "execution_count": 21,
   "id": "aea3e5a7",
   "metadata": {},
   "outputs": [],
   "source": [
    "def Continous_univariate_Analysis(data,\n",
    "                                  feature,\n",
    "                                  figsize=(12, 7),\n",
    "                                  kde=False,\n",
    "                                  bins=None):\n",
    "    f1, (ax_box,\n",
    "         ax_hist) = plt.subplots(nrows=2,\n",
    "                                 sharex=True,\n",
    "                                 gridspec_kw={\"height_ratios\": (0.25, 0.75)},\n",
    "                                 figsize=figsize)\n",
    "    sns.color_palette('crest', as_cmap=True)\n",
    "    sns.boxplot(data=data,\n",
    "                x=feature,\n",
    "                ax=ax_box,\n",
    "                showmeans=True,\n",
    "                color='violet')\n",
    "    sns.histplot(\n",
    "        data=data, x=feature, ax=ax_hist, kde=kde, bins=bins,\n",
    "        color='crest') if bins else sns.histplot(\n",
    "            data=data, x=feature, kde=kde, ax=ax_hist)\n",
    "\n",
    "    ax_hist.axvline(data[feature].mean(), color='green', linestyle='--')\n",
    "    ax_hist.axvline(data[feature].median(), color='red', linestyle='-')"
   ]
  },
  {
   "cell_type": "code",
   "execution_count": 22,
   "id": "e6545968",
   "metadata": {},
   "outputs": [
    {
     "data": {
      "image/png": "[encoded data removed]",
      "text/plain": [
       "<Figure size 864x504 with 2 Axes>"
      ]
     },
     "metadata": {
      "needs_background": "light"
     },
     "output_type": "display_data"
    }
   ],
   "source": [
    "#Age analysis:\n",
    "Continous_univariate_Analysis(dataset, 'Age', kde=True)"
   ]
  },
  {
   "cell_type": "code",
   "execution_count": 23,
   "id": "f6f3ce73",
   "metadata": {},
   "outputs": [],
   "source": [
    "## Observation\n",
    "# Age is normally distributed \n",
    "# no outlier observed \n",
    "# mean is near to median \n"
   ]
  },
  {
   "cell_type": "code",
   "execution_count": 24,
   "id": "adf5fa30",
   "metadata": {},
   "outputs": [
    {
     "data": {
      "image/png": "[encoded data removed]",
      "text/plain": [
       "<Figure size 864x504 with 2 Axes>"
      ]
     },
     "metadata": {
      "needs_background": "light"
     },
     "output_type": "display_data"
    }
   ],
   "source": [
    "Continous_univariate_Analysis(dataset, 'MonthlyIncome', kde=True)"
   ]
  },
  {
   "cell_type": "code",
   "execution_count": 25,
   "id": "99ff142a",
   "metadata": {},
   "outputs": [],
   "source": [
    "## Observation\n",
    "# distribution is left skewed \n",
    "# Above 16000, all the salaries are treated as outliers\n",
    "# As it is left skewed, it has good differnce between mean and median \n",
    "# Majority of the employees are earning between 3000 to 8000 dollars per month \n",
    "# 8% employees are earning above 16K dollars\n",
    "# Only Manager and  Research Director earning more than 16K dollars "
   ]
  },
  {
   "cell_type": "code",
   "execution_count": 26,
   "id": "95a95fe0",
   "metadata": {},
   "outputs": [
    {
     "data": {
      "image/png": "[encoded data removed]",
      "text/plain": [
       "<Figure size 864x504 with 2 Axes>"
      ]
     },
     "metadata": {
      "needs_background": "light"
     },
     "output_type": "display_data"
    }
   ],
   "source": [
    "Continous_univariate_Analysis(dataset[dataset['MonthlyIncome']<=15000], 'MonthlyIncome', kde=True)"
   ]
  },
  {
   "cell_type": "code",
   "execution_count": 27,
   "id": "f8b4949e",
   "metadata": {},
   "outputs": [
    {
     "data": {
      "text/plain": [
       "array(['Manager', 'Research Director'], dtype=object)"
      ]
     },
     "execution_count": 27,
     "metadata": {},
     "output_type": "execute_result"
    }
   ],
   "source": [
    "dataset[dataset['MonthlyIncome']>=16000]['JobRole'].unique()"
   ]
  },
  {
   "cell_type": "code",
   "execution_count": 28,
   "id": "388df215",
   "metadata": {},
   "outputs": [],
   "source": [
    "## Attrition vs Earnings vs Salary Hike"
   ]
  },
  {
   "cell_type": "code",
   "execution_count": 29,
   "id": "98252f10",
   "metadata": {},
   "outputs": [
    {
     "name": "stderr",
     "output_type": "stream",
     "text": [
      "C:\\Users\\hp\\anaconda3\\conda-meta\\set up\\lib\\site-packages\\seaborn\\_decorators.py:36: FutureWarning: Pass the following variables as keyword args: x, y. From version 0.12, the only valid positional argument will be `data`, and passing other arguments without an explicit keyword will result in an error or misinterpretation.\n",
      "  warnings.warn(\n",
      "C:\\Users\\hp\\anaconda3\\conda-meta\\set up\\lib\\site-packages\\seaborn\\_decorators.py:36: FutureWarning: Pass the following variables as keyword args: x, y. From version 0.12, the only valid positional argument will be `data`, and passing other arguments without an explicit keyword will result in an error or misinterpretation.\n",
      "  warnings.warn(\n",
      "C:\\Users\\hp\\anaconda3\\conda-meta\\set up\\lib\\site-packages\\seaborn\\_decorators.py:36: FutureWarning: Pass the following variables as keyword args: x, y. From version 0.12, the only valid positional argument will be `data`, and passing other arguments without an explicit keyword will result in an error or misinterpretation.\n",
      "  warnings.warn(\n",
      "C:\\Users\\hp\\anaconda3\\conda-meta\\set up\\lib\\site-packages\\seaborn\\_decorators.py:36: FutureWarning: Pass the following variables as keyword args: x, y. From version 0.12, the only valid positional argument will be `data`, and passing other arguments without an explicit keyword will result in an error or misinterpretation.\n",
      "  warnings.warn(\n",
      "C:\\Users\\hp\\anaconda3\\conda-meta\\set up\\lib\\site-packages\\seaborn\\_decorators.py:36: FutureWarning: Pass the following variables as keyword args: x, y. From version 0.12, the only valid positional argument will be `data`, and passing other arguments without an explicit keyword will result in an error or misinterpretation.\n",
      "  warnings.warn(\n"
     ]
    },
    {
     "data": {
      "image/png": "[encoded data removed]",
      "text/plain": [
       "<Figure size 1080x1080 with 5 Axes>"
      ]
     },
     "metadata": {
      "needs_background": "light"
     },
     "output_type": "display_data"
    }
   ],
   "source": [
    "cols = dataset[['DailyRate', 'MonthlyIncome', 'MonthlyRate', 'HourlyRate', 'PercentSalaryHike']].columns.tolist()\n",
    "plt.figure(figsize=(15,15))\n",
    "for i, variable in enumerate(cols):\n",
    "    plt.subplot(3,2, i+1)\n",
    "    sns.boxplot(dataset['Attrition'], dataset[variable], palette='viridis')\n",
    "    plt.tight_layout()\n",
    "    plt.title(variable)\n",
    "plt.show()"
   ]
  },
  {
   "cell_type": "code",
   "execution_count": 30,
   "id": "226ac05c",
   "metadata": {},
   "outputs": [
    {
     "data": {
      "text/plain": [
       "Attrition\n",
       "No     6832.739659\n",
       "Yes    4787.092827\n",
       "Name: MonthlyIncome, dtype: float64"
      ]
     },
     "execution_count": 30,
     "metadata": {},
     "output_type": "execute_result"
    }
   ],
   "source": [
    "#Monthly income vs attrition\n",
    "dataset.groupby(['Attrition'])['MonthlyIncome'].mean()"
   ]
  },
  {
   "cell_type": "code",
   "execution_count": 31,
   "id": "fde7c619",
   "metadata": {},
   "outputs": [],
   "source": [
    "# observation:\n",
    "#not much higher difference so binning technique is used"
   ]
  },
  {
   "cell_type": "code",
   "execution_count": 32,
   "id": "3051d868",
   "metadata": {},
   "outputs": [
    {
     "data": {
      "text/plain": [
       "(10.985000000000001, 15.667]    1838\n",
       "(15.667, 20.333]                 760\n",
       "(20.333, 25.0]                   342\n",
       "Name: PercentSalaryHike, dtype: int64"
      ]
     },
     "execution_count": 32,
     "metadata": {},
     "output_type": "execute_result"
    }
   ],
   "source": [
    "dataset.PercentSalaryHike.value_counts(bins=3)"
   ]
  },
  {
   "cell_type": "code",
   "execution_count": 33,
   "id": "f7e83f2c",
   "metadata": {},
   "outputs": [],
   "source": [
    "bins = [10,15,20,25]\n",
    "labels = ['avg_hike', 'moderate_hike', 'higher_hike']\n",
    "dataset['hike_category'] = pd.cut(dataset['PercentSalaryHike'], bins=bins, labels=labels, include_lowest=True)"
   ]
  },
  {
   "cell_type": "code",
   "execution_count": 34,
   "id": "701abb59",
   "metadata": {},
   "outputs": [
    {
     "data": {
      "text/html": [
       "<div>\n",
       "<style scoped>\n",
       "    .dataframe tbody tr th:only-of-type {\n",
       "        vertical-align: middle;\n",
       "    }\n",
       "\n",
       "    .dataframe tbody tr th {\n",
       "        vertical-align: top;\n",
       "    }\n",
       "\n",
       "    .dataframe thead th {\n",
       "        text-align: right;\n",
       "    }\n",
       "</style>\n",
       "<table border=\"1\" class=\"dataframe\">\n",
       "  <thead>\n",
       "    <tr style=\"text-align: right;\">\n",
       "      <th></th>\n",
       "      <th></th>\n",
       "      <th>EmployeeNumber</th>\n",
       "      <th>MonthlyIncome</th>\n",
       "      <th>PercentSalaryHike</th>\n",
       "    </tr>\n",
       "    <tr>\n",
       "      <th>Attrition</th>\n",
       "      <th>hike_category</th>\n",
       "      <th></th>\n",
       "      <th></th>\n",
       "      <th></th>\n",
       "    </tr>\n",
       "  </thead>\n",
       "  <tbody>\n",
       "    <tr>\n",
       "      <th rowspan=\"3\" valign=\"top\">No</th>\n",
       "      <th>avg_hike</th>\n",
       "      <td>1538</td>\n",
       "      <td>6952.018205</td>\n",
       "      <td>12.791938</td>\n",
       "    </tr>\n",
       "    <tr>\n",
       "      <th>moderate_hike</th>\n",
       "      <td>646</td>\n",
       "      <td>6323.266254</td>\n",
       "      <td>17.897833</td>\n",
       "    </tr>\n",
       "    <tr>\n",
       "      <th>higher_hike</th>\n",
       "      <td>282</td>\n",
       "      <td>7349.297872</td>\n",
       "      <td>22.425532</td>\n",
       "    </tr>\n",
       "    <tr>\n",
       "      <th rowspan=\"3\" valign=\"top\">Yes</th>\n",
       "      <th>avg_hike</th>\n",
       "      <td>300</td>\n",
       "      <td>5001.240000</td>\n",
       "      <td>12.633333</td>\n",
       "    </tr>\n",
       "    <tr>\n",
       "      <th>moderate_hike</th>\n",
       "      <td>114</td>\n",
       "      <td>4773.280702</td>\n",
       "      <td>17.666667</td>\n",
       "    </tr>\n",
       "    <tr>\n",
       "      <th>higher_hike</th>\n",
       "      <td>60</td>\n",
       "      <td>3742.600000</td>\n",
       "      <td>22.533333</td>\n",
       "    </tr>\n",
       "  </tbody>\n",
       "</table>\n",
       "</div>"
      ],
      "text/plain": [
       "                         EmployeeNumber  MonthlyIncome  PercentSalaryHike\n",
       "Attrition hike_category                                                  \n",
       "No        avg_hike                 1538    6952.018205          12.791938\n",
       "          moderate_hike             646    6323.266254          17.897833\n",
       "          higher_hike               282    7349.297872          22.425532\n",
       "Yes       avg_hike                  300    5001.240000          12.633333\n",
       "          moderate_hike             114    4773.280702          17.666667\n",
       "          higher_hike                60    3742.600000          22.533333"
      ]
     },
     "execution_count": 34,
     "metadata": {},
     "output_type": "execute_result"
    }
   ],
   "source": [
    "dataset.groupby(['Attrition', 'hike_category']).agg({\n",
    "    'EmployeeNumber': 'count',\n",
    "    'MonthlyIncome': 'mean',\n",
    "    'PercentSalaryHike':'mean'\n",
    "})"
   ]
  },
  {
   "cell_type": "code",
   "execution_count": 35,
   "id": "8aa8b7e8",
   "metadata": {},
   "outputs": [
    {
     "ename": "SyntaxError",
     "evalue": "invalid syntax (939539182.py, line 2)",
     "output_type": "error",
     "traceback": [
      "\u001b[1;36m  Input \u001b[1;32mIn [35]\u001b[1;36m\u001b[0m\n\u001b[1;33m    1. The mean of the monthly income for those who are leaving the organization is 2000$ cheaper of average income\u001b[0m\n\u001b[1;37m       ^\u001b[0m\n\u001b[1;31mSyntaxError\u001b[0m\u001b[1;31m:\u001b[0m invalid syntax\n"
     ]
    }
   ],
   "source": [
    "## Observation:\n",
    "1. The mean of the monthly income for those who are leaving the organization is 2000$ cheaper of average income \n",
    "2. Daily Rate is not so impacting\n",
    "3. mean is same for salary hike which is 15% but we need to dig more information for those who get higher hikes\n",
    "4. More hike can be given to lower salary group which may not impact there salary more than average salary \n",
    "5. No significant observation for Monthly rate, hourly rate and daily rate "
   ]
  },
  {
   "cell_type": "code",
   "execution_count": null,
   "id": "2466698e",
   "metadata": {},
   "outputs": [],
   "source": [
    "# Attrition vs experience\n",
    "cols = dataset[['YearsAtCompany', 'YearsInCurrentRole', 'YearsSinceLastPromotion', 'YearsWithCurrManager', \n",
    "               'TrainingTimesLastYear']].columns.tolist()\n",
    "\n",
    "plt.figure(figsize=(15, 15))\n",
    "for i, variable in enumerate(cols):\n",
    "    plt.subplot(3,2, i+1)\n",
    "    sns.boxplot(dataset['Attrition'], dataset[variable], palette=\"magma\")\n",
    "    plt.tight_layout()\n",
    "    plt.title(variable)\n",
    "plt.show()"
   ]
  },
  {
   "cell_type": "code",
   "execution_count": null,
   "id": "c711d074",
   "metadata": {},
   "outputs": [],
   "source": [
    "## Observation:\n",
    "# Those who left the organization are less experience (3 yrs) \n",
    "# Those who are working with same manager for more than 2 yrs are tend to leave the organization \n",
    "# Promotion time period is same for both the cases. They tend to leave if promotion is not delivered within 1 yrs \n",
    "# Employees with same role for more than 2 yrs tends to leave the organization \n",
    "# Training time has no impact on Attrition "
   ]
  },
  {
   "cell_type": "code",
   "execution_count": null,
   "id": "ad9a36ea",
   "metadata": {},
   "outputs": [],
   "source": [
    "# attrition vs number of working years:\n",
    "\n",
    "cols = dataset[['NumCompaniesWorked', 'TotalWorkingYears']].columns.tolist()\n",
    "\n",
    "plt.figure(figsize=(15,5))\n",
    "for i, variable in enumerate(cols):\n",
    "    plt.subplot(1,2, i+1)\n",
    "    sns.boxplot(dataset['Attrition'], dataset[variable], palette=\"magma\")\n",
    "    plt.tight_layout()\n",
    "    plt.title(variable)\n",
    "plt.show()"
   ]
  },
  {
   "cell_type": "code",
   "execution_count": null,
   "id": "aa042d61",
   "metadata": {},
   "outputs": [],
   "source": [
    "## Discrete Bi-variate analysis : Business Travel vs ATTRITION\n",
    "def discrete_bivariate_analysis(data, predictor, target):\n",
    "    count = data[predictor].nunique()\n",
    "    sorter = data[target].value_counts().index[-1]\n",
    "    tab1 = pd.crosstab(data[predictor], data[target], margins=True).sort_values(by=sorter, ascending=False)\n",
    "    print(tab1)\n",
    "    print('*'*100)\n",
    "    tab= pd.crosstab(data[predictor], data[target], normalize='index').sort_values(by=sorter, ascending=False)\n",
    "    tab.plot(kind='bar', stacked=True, figsize=(count+1, 5))\n",
    "    plt.legend(loc=\"lower left\", frameon=True)\n",
    "    plt.legend(loc=\"upper left\", bbox_to_anchor = (1,1))\n",
    "    plt.show()"
   ]
  },
  {
   "cell_type": "code",
   "execution_count": null,
   "id": "a2f37f79",
   "metadata": {},
   "outputs": [],
   "source": [
    "discrete_bivariate_analysis(dataset,'BusinessTravel', 'Attrition')"
   ]
  },
  {
   "cell_type": "code",
   "execution_count": null,
   "id": "785389b6",
   "metadata": {},
   "outputs": [],
   "source": [
    "discrete_bivariate_analysis(dataset,'JobRole', 'Attrition')"
   ]
  },
  {
   "cell_type": "code",
   "execution_count": null,
   "id": "f5d36f1f",
   "metadata": {},
   "outputs": [],
   "source": [
    "# Multivariant Analysis:\n",
    "plt.figure(figsize=(15, 8))\n",
    "sns.boxplot(dataset['PerformanceRating'], dataset['PercentSalaryHike'], hue=dataset['JobRole'])\n",
    "plt.show()"
   ]
  },
  {
   "cell_type": "code",
   "execution_count": null,
   "id": "1752b11d",
   "metadata": {},
   "outputs": [],
   "source": [
    "pop_view= dataset.groupby(['Gender','MaritalStatus'])['Department'] .nunique()"
   ]
  },
  {
   "cell_type": "code",
   "execution_count": null,
   "id": "2bb36c90",
   "metadata": {},
   "outputs": [],
   "source": [
    "pop_view\n"
   ]
  },
  {
   "cell_type": "code",
   "execution_count": null,
   "id": "e0457a40",
   "metadata": {},
   "outputs": [],
   "source": [
    "value_pcts=pop_view.groupby(level=0).apply(lambda x:round(100*x/float(x.sum()),2)).reset_index()"
   ]
  },
  {
   "cell_type": "code",
   "execution_count": null,
   "id": "cb189201",
   "metadata": {},
   "outputs": [],
   "source": [
    "value_pcts"
   ]
  },
  {
   "cell_type": "code",
   "execution_count": null,
   "id": "c2d89063",
   "metadata": {},
   "outputs": [],
   "source": []
  },
  {
   "cell_type": "code",
   "execution_count": null,
   "id": "b4da0a97",
   "metadata": {},
   "outputs": [],
   "source": []
  }
 ],
 "metadata": {
  "kernelspec": {
   "display_name": "Python 3 (ipykernel)",
   "language": "python",
   "name": "python3"
  },
  "language_info": {
   "codemirror_mode": {
    "name": "ipython",
    "version": 3
   },
   "file_extension": ".py",
   "mimetype": "text/x-python",
   "name": "python",
   "nbconvert_exporter": "python",
   "pygments_lexer": "ipython3",
   "version": "3.9.12"
  }
 },
 "nbformat": 4,
 "nbformat_minor": 5
}
